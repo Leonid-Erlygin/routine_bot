{
 "cells": [
  {
   "cell_type": "code",
   "execution_count": 15,
   "metadata": {},
   "outputs": [],
   "source": [
    "import pandas as pd\n",
    "from tabulate import tabulate"
   ]
  },
  {
   "cell_type": "code",
   "execution_count": 14,
   "metadata": {},
   "outputs": [
    {
     "data": {
      "text/plain": [
       "<re.Match object; span=(0, 10), match='2024-03-14'>"
      ]
     },
     "execution_count": 14,
     "metadata": {},
     "output_type": "execute_result"
    }
   ],
   "source": [
    "import re\n",
    "\n",
    "pattern = re.compile(\"^202[0-9]-[0-1][0-9]-[0-3][0-9]$\")\n",
    "pattern.search(\"2024-03-14\")"
   ]
  },
  {
   "cell_type": "code",
   "execution_count": 5,
   "metadata": {},
   "outputs": [
    {
     "data": {
      "text/plain": [
       "'2020-08-03 00:00:00'"
      ]
     },
     "execution_count": 5,
     "metadata": {},
     "output_type": "execute_result"
    }
   ],
   "source": [
    "import datetime\n",
    "\n",
    "regex = datetime.datetime.strptime\n",
    "str(regex(\"2020-08-03\", \"%Y-%m-%d\"))"
   ]
  },
  {
   "cell_type": "code",
   "execution_count": null,
   "metadata": {},
   "outputs": [],
   "source": []
  },
  {
   "cell_type": "code",
   "execution_count": 3,
   "metadata": {},
   "outputs": [
    {
     "data": {
      "text/plain": [
       "builtin_function_or_method"
      ]
     },
     "execution_count": 3,
     "metadata": {},
     "output_type": "execute_result"
    }
   ],
   "source": [
    "type(regex)"
   ]
  },
  {
   "cell_type": "code",
   "execution_count": 6,
   "metadata": {},
   "outputs": [],
   "source": [
    "from datetime import date, time\n",
    "\n",
    "time(\"\")"
   ]
  },
  {
   "cell_type": "code",
   "execution_count": 9,
   "metadata": {},
   "outputs": [
    {
     "data": {
      "text/plain": [
       "'2024-03-14'"
      ]
     },
     "execution_count": 9,
     "metadata": {},
     "output_type": "execute_result"
    }
   ],
   "source": [
    "str(date.today())"
   ]
  },
  {
   "cell_type": "code",
   "execution_count": 10,
   "metadata": {},
   "outputs": [
    {
     "data": {
      "text/plain": [
       "datetime.date(2024, 1, 15)"
      ]
     },
     "execution_count": 10,
     "metadata": {},
     "output_type": "execute_result"
    }
   ],
   "source": [
    "date.fromisoformat(\"2024-01-15\")"
   ]
  },
  {
   "cell_type": "code",
   "execution_count": 10,
   "metadata": {},
   "outputs": [
    {
     "data": {
      "text/plain": [
       "'05:02'"
      ]
     },
     "execution_count": 10,
     "metadata": {},
     "output_type": "execute_result"
    }
   ],
   "source": [
    "str(time(hour=5, minute=2))[:-3]"
   ]
  },
  {
   "cell_type": "code",
   "execution_count": 19,
   "metadata": {},
   "outputs": [
    {
     "data": {
      "text/plain": [
       "'15:14:00'"
      ]
     },
     "execution_count": 19,
     "metadata": {},
     "output_type": "execute_result"
    }
   ],
   "source": [
    "from dateutil import parser\n",
    "\n",
    "str(parser.parse(\"15:14\").time())"
   ]
  },
  {
   "cell_type": "code",
   "execution_count": 6,
   "metadata": {},
   "outputs": [
    {
     "data": {
      "text/plain": [
       "'2024-03-13'"
      ]
     },
     "execution_count": 6,
     "metadata": {},
     "output_type": "execute_result"
    }
   ],
   "source": [
    "str(date.today())"
   ]
  },
  {
   "cell_type": "code",
   "execution_count": 57,
   "metadata": {},
   "outputs": [
    {
     "data": {
      "text/plain": [
       "datetime.time(4, 3)"
      ]
     },
     "execution_count": 57,
     "metadata": {},
     "output_type": "execute_result"
    }
   ],
   "source": [
    "time(4, 3)"
   ]
  },
  {
   "cell_type": "code",
   "execution_count": 59,
   "metadata": {},
   "outputs": [
    {
     "data": {
      "text/plain": [
       "['42']"
      ]
     },
     "execution_count": 59,
     "metadata": {},
     "output_type": "execute_result"
    }
   ],
   "source": [
    "s = \"42\"\n",
    "s.split(\":\")"
   ]
  },
  {
   "cell_type": "code",
   "execution_count": 64,
   "metadata": {},
   "outputs": [
    {
     "data": {
      "text/plain": [
       "2"
      ]
     },
     "execution_count": 64,
     "metadata": {},
     "output_type": "execute_result"
    }
   ],
   "source": [
    "len(s)"
   ]
  },
  {
   "cell_type": "code",
   "execution_count": 62,
   "metadata": {},
   "outputs": [
    {
     "data": {
      "text/plain": [
       "'24'"
      ]
     },
     "execution_count": 62,
     "metadata": {},
     "output_type": "execute_result"
    }
   ],
   "source": [
    "str(24).zfill(2)"
   ]
  },
  {
   "cell_type": "code",
   "execution_count": 65,
   "metadata": {},
   "outputs": [],
   "source": [
    "data = pd.read_csv(\"/app/data/work_time.csv\", index_col=\"Date\")\n",
    "\n",
    "data.loc[\"28.02.2024\"] = [\"2:00\"]\n",
    "data.to_csv(\"../data/work_time_upd.csv\")"
   ]
  },
  {
   "cell_type": "code",
   "execution_count": 66,
   "metadata": {},
   "outputs": [
    {
     "data": {
      "text/html": [
       "<div>\n",
       "<style scoped>\n",
       "    .dataframe tbody tr th:only-of-type {\n",
       "        vertical-align: middle;\n",
       "    }\n",
       "\n",
       "    .dataframe tbody tr th {\n",
       "        vertical-align: top;\n",
       "    }\n",
       "\n",
       "    .dataframe thead th {\n",
       "        text-align: right;\n",
       "    }\n",
       "</style>\n",
       "<table border=\"1\" class=\"dataframe\">\n",
       "  <thead>\n",
       "    <tr style=\"text-align: right;\">\n",
       "      <th></th>\n",
       "      <th>Work Time</th>\n",
       "    </tr>\n",
       "    <tr>\n",
       "      <th>Date</th>\n",
       "      <th></th>\n",
       "    </tr>\n",
       "  </thead>\n",
       "  <tbody>\n",
       "    <tr>\n",
       "      <th>15.01.2024</th>\n",
       "      <td>2:30</td>\n",
       "    </tr>\n",
       "    <tr>\n",
       "      <th>16.01.2024</th>\n",
       "      <td>2:30</td>\n",
       "    </tr>\n",
       "    <tr>\n",
       "      <th>17.01.2024</th>\n",
       "      <td>0:00</td>\n",
       "    </tr>\n",
       "    <tr>\n",
       "      <th>18.01.2024</th>\n",
       "      <td>2:00</td>\n",
       "    </tr>\n",
       "    <tr>\n",
       "      <th>19.01.2024</th>\n",
       "      <td>2:30</td>\n",
       "    </tr>\n",
       "    <tr>\n",
       "      <th>20.01.2024</th>\n",
       "      <td>0:00</td>\n",
       "    </tr>\n",
       "    <tr>\n",
       "      <th>21.01.2024</th>\n",
       "      <td>0:00</td>\n",
       "    </tr>\n",
       "    <tr>\n",
       "      <th>22.01.2024</th>\n",
       "      <td>3:00</td>\n",
       "    </tr>\n",
       "    <tr>\n",
       "      <th>23.01.2024</th>\n",
       "      <td>2:30</td>\n",
       "    </tr>\n",
       "    <tr>\n",
       "      <th>24.01.2024</th>\n",
       "      <td>3:30</td>\n",
       "    </tr>\n",
       "    <tr>\n",
       "      <th>25.01.2024</th>\n",
       "      <td>4:20</td>\n",
       "    </tr>\n",
       "    <tr>\n",
       "      <th>26.01.2024</th>\n",
       "      <td>1:30</td>\n",
       "    </tr>\n",
       "    <tr>\n",
       "      <th>27.01.2024</th>\n",
       "      <td>0:00</td>\n",
       "    </tr>\n",
       "    <tr>\n",
       "      <th>28.01.2024</th>\n",
       "      <td>0:00</td>\n",
       "    </tr>\n",
       "    <tr>\n",
       "      <th>29.01.2024</th>\n",
       "      <td>2:00</td>\n",
       "    </tr>\n",
       "    <tr>\n",
       "      <th>30.01.2024</th>\n",
       "      <td>2:10</td>\n",
       "    </tr>\n",
       "    <tr>\n",
       "      <th>31.01.2024</th>\n",
       "      <td>3:00</td>\n",
       "    </tr>\n",
       "    <tr>\n",
       "      <th>01.02.2024</th>\n",
       "      <td>3:30</td>\n",
       "    </tr>\n",
       "    <tr>\n",
       "      <th>02.02.2024</th>\n",
       "      <td>1:30</td>\n",
       "    </tr>\n",
       "    <tr>\n",
       "      <th>03.02.2024</th>\n",
       "      <td>0:00</td>\n",
       "    </tr>\n",
       "    <tr>\n",
       "      <th>04.02.2024</th>\n",
       "      <td>1:11</td>\n",
       "    </tr>\n",
       "    <tr>\n",
       "      <th>05.02.2024</th>\n",
       "      <td>4:40</td>\n",
       "    </tr>\n",
       "    <tr>\n",
       "      <th>06.02.2024</th>\n",
       "      <td>5:00</td>\n",
       "    </tr>\n",
       "    <tr>\n",
       "      <th>07.02.2024</th>\n",
       "      <td>0:30</td>\n",
       "    </tr>\n",
       "    <tr>\n",
       "      <th>08.02.2024</th>\n",
       "      <td>3:20</td>\n",
       "    </tr>\n",
       "    <tr>\n",
       "      <th>09.02.2024</th>\n",
       "      <td>2:50</td>\n",
       "    </tr>\n",
       "    <tr>\n",
       "      <th>10.02.2024</th>\n",
       "      <td>0:00</td>\n",
       "    </tr>\n",
       "    <tr>\n",
       "      <th>11.02.2024</th>\n",
       "      <td>0:00</td>\n",
       "    </tr>\n",
       "    <tr>\n",
       "      <th>12.02.2024</th>\n",
       "      <td>0:00</td>\n",
       "    </tr>\n",
       "    <tr>\n",
       "      <th>13.02.2024</th>\n",
       "      <td>4:14</td>\n",
       "    </tr>\n",
       "    <tr>\n",
       "      <th>14.02.2024</th>\n",
       "      <td>3:50</td>\n",
       "    </tr>\n",
       "    <tr>\n",
       "      <th>15.02.2024</th>\n",
       "      <td>4:40</td>\n",
       "    </tr>\n",
       "    <tr>\n",
       "      <th>16.02.2024</th>\n",
       "      <td>5:05</td>\n",
       "    </tr>\n",
       "    <tr>\n",
       "      <th>17.02.2024</th>\n",
       "      <td>0:00</td>\n",
       "    </tr>\n",
       "    <tr>\n",
       "      <th>18.02.2024</th>\n",
       "      <td>0:00</td>\n",
       "    </tr>\n",
       "    <tr>\n",
       "      <th>19.02.2024</th>\n",
       "      <td>3:15</td>\n",
       "    </tr>\n",
       "    <tr>\n",
       "      <th>20.02.2024</th>\n",
       "      <td>7:00</td>\n",
       "    </tr>\n",
       "    <tr>\n",
       "      <th>21.02.2024</th>\n",
       "      <td>1:20</td>\n",
       "    </tr>\n",
       "    <tr>\n",
       "      <th>22.02.2024</th>\n",
       "      <td>4:25</td>\n",
       "    </tr>\n",
       "    <tr>\n",
       "      <th>23.02.2024</th>\n",
       "      <td>0:00</td>\n",
       "    </tr>\n",
       "    <tr>\n",
       "      <th>24.02.2024</th>\n",
       "      <td>0:00</td>\n",
       "    </tr>\n",
       "    <tr>\n",
       "      <th>25.02.2024</th>\n",
       "      <td>0:00</td>\n",
       "    </tr>\n",
       "    <tr>\n",
       "      <th>26.02.2024</th>\n",
       "      <td>2:00</td>\n",
       "    </tr>\n",
       "    <tr>\n",
       "      <th>27.02.2024</th>\n",
       "      <td>4:10</td>\n",
       "    </tr>\n",
       "    <tr>\n",
       "      <th>28.02.2024</th>\n",
       "      <td>2:00</td>\n",
       "    </tr>\n",
       "  </tbody>\n",
       "</table>\n",
       "</div>"
      ],
      "text/plain": [
       "           Work Time\n",
       "Date                \n",
       "15.01.2024      2:30\n",
       "16.01.2024      2:30\n",
       "17.01.2024      0:00\n",
       "18.01.2024      2:00\n",
       "19.01.2024      2:30\n",
       "20.01.2024      0:00\n",
       "21.01.2024      0:00\n",
       "22.01.2024      3:00\n",
       "23.01.2024      2:30\n",
       "24.01.2024      3:30\n",
       "25.01.2024      4:20\n",
       "26.01.2024      1:30\n",
       "27.01.2024      0:00\n",
       "28.01.2024      0:00\n",
       "29.01.2024      2:00\n",
       "30.01.2024      2:10\n",
       "31.01.2024      3:00\n",
       "01.02.2024      3:30\n",
       "02.02.2024      1:30\n",
       "03.02.2024      0:00\n",
       "04.02.2024      1:11\n",
       "05.02.2024      4:40\n",
       "06.02.2024      5:00\n",
       "07.02.2024      0:30\n",
       "08.02.2024      3:20\n",
       "09.02.2024      2:50\n",
       "10.02.2024      0:00\n",
       "11.02.2024      0:00\n",
       "12.02.2024      0:00\n",
       "13.02.2024      4:14\n",
       "14.02.2024      3:50\n",
       "15.02.2024      4:40\n",
       "16.02.2024      5:05\n",
       "17.02.2024      0:00\n",
       "18.02.2024      0:00\n",
       "19.02.2024      3:15\n",
       "20.02.2024      7:00\n",
       "21.02.2024      1:20\n",
       "22.02.2024      4:25\n",
       "23.02.2024      0:00\n",
       "24.02.2024      0:00\n",
       "25.02.2024      0:00\n",
       "26.02.2024      2:00\n",
       "27.02.2024      4:10\n",
       "28.02.2024      2:00"
      ]
     },
     "execution_count": 66,
     "metadata": {},
     "output_type": "execute_result"
    }
   ],
   "source": [
    "data"
   ]
  },
  {
   "cell_type": "code",
   "execution_count": 19,
   "metadata": {},
   "outputs": [
    {
     "name": "stdout",
     "output_type": "stream",
     "text": [
      "+------------+-------------+\n",
      "| Date       | Work Time   |\n",
      "|------------+-------------|\n",
      "| 15.01.2024 | 2:30        |\n",
      "| 16.01.2024 | 2:30        |\n",
      "| 17.01.2024 | 0:00        |\n",
      "| 18.01.2024 | 2:00        |\n",
      "| 19.01.2024 | 2:30        |\n",
      "| 20.01.2024 | 0:00        |\n",
      "| 21.01.2024 | 0:00        |\n",
      "| 22.01.2024 | 3:00        |\n",
      "| 23.01.2024 | 2:30        |\n",
      "| 24.01.2024 | 3:30        |\n",
      "| 25.01.2024 | 4:20        |\n",
      "| 26.01.2024 | 1:30        |\n",
      "| 27.01.2024 | 0:00        |\n",
      "| 28.01.2024 | 0:00        |\n",
      "| 29.01.2024 | 2:00        |\n",
      "| 30.01.2024 | 2:10        |\n",
      "| 31.01.2024 | 3:00        |\n",
      "| 01.02.2024 | 3:30        |\n",
      "| 02.02.2024 | 1:30        |\n",
      "| 03.02.2024 | 0:00        |\n",
      "| 04.02.2024 | 1:11        |\n",
      "| 05.02.2024 | 4:40        |\n",
      "| 06.02.2024 | 5:00        |\n",
      "| 07.02.2024 | 0:30        |\n",
      "| 08.02.2024 | 3:20        |\n",
      "| 09.02.2024 | 2:50        |\n",
      "| 10.02.2024 | 0:00        |\n",
      "| 11.02.2024 | 0:00        |\n",
      "| 12.02.2024 | 0:00        |\n",
      "| 13.02.2024 | 4:14        |\n",
      "| 14.02.2024 | 3:50        |\n",
      "| 15.02.2024 | 4:40        |\n",
      "| 16.02.2024 | 5:05        |\n",
      "| 17.02.2024 | 0:00        |\n",
      "| 18.02.2024 | 0:00        |\n",
      "| 19.02.2024 | 3:15        |\n",
      "| 20.02.2024 | 7:00        |\n",
      "| 21.02.2024 | 1:20        |\n",
      "| 22.02.2024 | 4:25        |\n",
      "| 23.02.2024 | 0:00        |\n",
      "| 24.02.2024 | 0:00        |\n",
      "| 25.02.2024 | 0:00        |\n",
      "| 26.02.2024 | 2:00        |\n",
      "| 27.02.2024 | 4:10        |\n",
      "+------------+-------------+\n"
     ]
    }
   ],
   "source": [
    "data = pd.read_csv(\"/app/data/work_time.csv\", index_col=\"Date\")\n",
    "# data = data.set_index('Date')\n",
    "# print(data)\n",
    "\n",
    "print(tabulate(data, headers=\"keys\", tablefmt=\"psql\"))"
   ]
  },
  {
   "cell_type": "code",
   "execution_count": 20,
   "metadata": {},
   "outputs": [
    {
     "name": "stdout",
     "output_type": "stream",
     "text": [
      "| Date       | Work Time   |\n",
      "|:-----------|:------------|\n",
      "| 15.01.2024 | 2:30        |\n",
      "| 16.01.2024 | 2:30        |\n",
      "| 17.01.2024 | 0:00        |\n",
      "| 18.01.2024 | 2:00        |\n",
      "| 19.01.2024 | 2:30        |\n",
      "| 20.01.2024 | 0:00        |\n",
      "| 21.01.2024 | 0:00        |\n",
      "| 22.01.2024 | 3:00        |\n",
      "| 23.01.2024 | 2:30        |\n",
      "| 24.01.2024 | 3:30        |\n",
      "| 25.01.2024 | 4:20        |\n",
      "| 26.01.2024 | 1:30        |\n",
      "| 27.01.2024 | 0:00        |\n",
      "| 28.01.2024 | 0:00        |\n",
      "| 29.01.2024 | 2:00        |\n",
      "| 30.01.2024 | 2:10        |\n",
      "| 31.01.2024 | 3:00        |\n",
      "| 01.02.2024 | 3:30        |\n",
      "| 02.02.2024 | 1:30        |\n",
      "| 03.02.2024 | 0:00        |\n",
      "| 04.02.2024 | 1:11        |\n",
      "| 05.02.2024 | 4:40        |\n",
      "| 06.02.2024 | 5:00        |\n",
      "| 07.02.2024 | 0:30        |\n",
      "| 08.02.2024 | 3:20        |\n",
      "| 09.02.2024 | 2:50        |\n",
      "| 10.02.2024 | 0:00        |\n",
      "| 11.02.2024 | 0:00        |\n",
      "| 12.02.2024 | 0:00        |\n",
      "| 13.02.2024 | 4:14        |\n",
      "| 14.02.2024 | 3:50        |\n",
      "| 15.02.2024 | 4:40        |\n",
      "| 16.02.2024 | 5:05        |\n",
      "| 17.02.2024 | 0:00        |\n",
      "| 18.02.2024 | 0:00        |\n",
      "| 19.02.2024 | 3:15        |\n",
      "| 20.02.2024 | 7:00        |\n",
      "| 21.02.2024 | 1:20        |\n",
      "| 22.02.2024 | 4:25        |\n",
      "| 23.02.2024 | 0:00        |\n",
      "| 24.02.2024 | 0:00        |\n",
      "| 25.02.2024 | 0:00        |\n",
      "| 26.02.2024 | 2:00        |\n",
      "| 27.02.2024 | 4:10        |\n"
     ]
    }
   ],
   "source": [
    "print(data.to_markdown())"
   ]
  },
  {
   "cell_type": "code",
   "execution_count": null,
   "metadata": {},
   "outputs": [],
   "source": []
  }
 ],
 "metadata": {
  "kernelspec": {
   "display_name": "base",
   "language": "python",
   "name": "python3"
  },
  "language_info": {
   "codemirror_mode": {
    "name": "ipython",
    "version": 3
   },
   "file_extension": ".py",
   "mimetype": "text/x-python",
   "name": "python",
   "nbconvert_exporter": "python",
   "pygments_lexer": "ipython3",
   "version": "3.9.7"
  }
 },
 "nbformat": 4,
 "nbformat_minor": 2
}
